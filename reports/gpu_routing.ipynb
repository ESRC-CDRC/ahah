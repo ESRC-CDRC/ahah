{
  "cells": [
    {
      "cell_type": "raw",
      "metadata": {},
      "source": [
        "---\n",
        "title: Parallel routing through GPUs\n",
        "author: Cillian Berragan\n",
        "date: 20th January 2022\n",
        "format:\n",
        "  html:\n",
        "    self-contained: true\n",
        "    code-fold: true\n",
        "    code-overflow: wrap\n",
        "execute:\n",
        "  warning: false\n",
        "---"
      ],
      "id": "2ca501bc"
    },
    {
      "cell_type": "markdown",
      "metadata": {},
      "source": [
        "GPUs present the opportunity to execute highly parallel processes an order of magnitude faster than traditional CPU bound solutions. While GPUs are already widely used in deep learning applications, more focus is being given to their use in traditional data processing when large amounts of data are involved. This article demonstrates how GPUs may be used to parallelise road network routing using the [`cugraph`](https://rapids.ai/) library, speeding up analysis times exponentially over the commonly used [`networkx`](https://networkx.org/) python library.\n",
        "\n",
        "To test our routing, we will be considering the drive-time distance for a collection of postcodes to their nearest GP practice^[Please note that only GP practices that fall within our postcode subset are considered, meaning for outer postcodes our estimates may be inaccurate]. First some functions and classes are loaded in from our base library named `ahah`, `cudf` provides GPU accelerated data frames, and `pandas` provides normal CPU bound data frames."
      ],
      "id": "10681d5e"
    },
    {
      "cell_type": "code",
      "metadata": {},
      "source": [
        "#| code-summary: Imports\n",
        "\n",
        "import functools\n",
        "import time\n",
        "from typing import Union\n",
        "\n",
        "import cudf\n",
        "import pandas as pd\n",
        "import matplotlib.pyplot as plt\n",
        "\n",
        "from ahah.common.utils import Config\n",
        "from ahah.process_routing import nearest_nodes\n",
        "from ahah.routing import Routing\n",
        "from ahah.routing_cpu import CPURouting"
      ],
      "id": "b9929fe0",
      "execution_count": null,
      "outputs": []
    },
    {
      "cell_type": "markdown",
      "metadata": {},
      "source": [
        "The road network data and postcodes have already been pre-processed so may be directly loaded into `cudf` GPU-accelerated data frames through the `get_data` function. This function takes in a single postcode, a list, or postcodes matched by a regular expression."
      ],
      "id": "0416c940"
    },
    {
      "cell_type": "code",
      "metadata": {},
      "source": [
        "#| code-summary: Get Data\n",
        "\n",
        "def get_data(pc: Union[str, list], use_gpu: bool):\n",
        "    edges = cudf.read_parquet(Config.OS_GRAPH / \"edges.parquet\")\n",
        "    nodes = cudf.read_parquet(Config.OS_GRAPH / \"nodes.parquet\")\n",
        "    postcodes = cudf.read_parquet(Config.PROCESSED_DATA / \"postcodes.parquet\")\n",
        "\n",
        "    if isinstance(pc, str):\n",
        "        postcodes = postcodes[postcodes[\"postcode\"].str.match(pc)]\n",
        "    elif isinstance(pc, list):\n",
        "        postcodes = postcodes[postcodes[\"postcode\"].isin(pc)]\n",
        "\n",
        "    gpp = cudf.read_parquet(Config.PROCESSED_DATA / \"gpp.parquet\")\n",
        "    gpp = gpp[gpp[\"postcode\"].isin(postcodes[\"postcode\"])]\n",
        "    gpp = nearest_nodes(gpp.reset_index(drop=True), nodes=nodes)\n",
        "\n",
        "    return {\n",
        "        \"name\": \"gpp\",\n",
        "        \"edges\": edges if use_gpu else edges.to_pandas(),\n",
        "        \"nodes\": nodes if use_gpu else nodes.to_pandas(),\n",
        "        \"postcodes\": postcodes if use_gpu else postcodes.to_pandas(),\n",
        "        \"pois\": gpp.to_pandas(),\n",
        "        \"buffer\": 50_000,\n",
        "    }"
      ],
      "id": "0407dc0a",
      "execution_count": null,
      "outputs": []
    },
    {
      "cell_type": "markdown",
      "metadata": {},
      "source": [
        "The `Routing` and `CPURouting` classes iterate over each POI, linked with their nearest road node, calculating the road distance from each postcode node within a 50km buffer, weighted by the estimated road drive-times. The following **'Setup'** chunk contains two helper functions to take in the data, process this routing, and output the distances and time-taken."
      ],
      "id": "1459dfa8"
    },
    {
      "cell_type": "code",
      "metadata": {},
      "source": [
        "#| code-summary: Setup\n",
        "\n",
        "def cpu_liverpool(**kwargs):\n",
        "    routing = CPURouting(**kwargs)\n",
        "    t1 = time.time()\n",
        "    routing.fit()\n",
        "    t2 = time.time()\n",
        "\n",
        "    postcodes = kwargs.get(\"postcodes\")\n",
        "    return routing.distances.set_index(\"vertex\").join(postcodes.set_index(\"node_id\")), t2 - t1\n",
        "\n",
        "\n",
        "def gpu_liverpool(**kwargs):\n",
        "    routing = Routing(**kwargs)\n",
        "    t1 = time.time()\n",
        "    routing.fit()\n",
        "    t2 = time.time()\n",
        "\n",
        "    postcodes = kwargs.get(\"postcodes\")\n",
        "    return routing.distances.set_index(\"vertex\").join(postcodes.set_index(\"node_id\")), t2 - t1"
      ],
      "id": "5e2860a8",
      "execution_count": null,
      "outputs": []
    },
    {
      "cell_type": "markdown",
      "metadata": {},
      "source": [
        "For our analysis we have selected a subset of postcodes for the High Peak Borough, containing 2,861 total postcodes, with an estimated population of around 90,000 people. The following code reads in a table of postcodes within this borough into a python `list`, which is then processed used to subset the overall postcode data."
      ],
      "id": "b2355d12"
    },
    {
      "cell_type": "code",
      "metadata": {},
      "source": [
        "#| code-summary: Process Routing\n",
        "#| output: false\n",
        "\n",
        "hp_pcs = (\n",
        "    pd.read_csv(\n",
        "        \"https://www.doogal.co.uk/\" \n",
        "        \"AdministrativeAreasCSV.ashx?district=E07000037\"\n",
        "    )\n",
        "    .loc[lambda row: row[\"In Use?\"] == \"Yes\", \"Postcode\"]\n",
        "    .tolist()\n",
        ")\n",
        "\n",
        "cpu, cpu_time = cpu_liverpool(**get_data(pc=hp_pcs, use_gpu=False))\n",
        "gpu, gpu_time = gpu_liverpool(**get_data(pc=hp_pcs, use_gpu=True))"
      ],
      "id": "de22e557",
      "execution_count": null,
      "outputs": []
    },
    {
      "cell_type": "markdown",
      "metadata": {},
      "source": [
        "The processing times are given below."
      ],
      "id": "45f01524"
    },
    {
      "cell_type": "code",
      "metadata": {},
      "source": [
        "#| code-summary: Times\n",
        "\n",
        "print(f\"CPU Routing complete in {cpu_time:.2f} seconds.\")\n",
        "print(f\"GPU Routing complete in {gpu_time:.2f} seconds.\")\n",
        "\n",
        "print(f\"Speedup: {cpu_time / gpu_time:.2f}x!\")"
      ],
      "id": "5e031ff4",
      "execution_count": null,
      "outputs": []
    },
    {
      "cell_type": "markdown",
      "metadata": {},
      "source": [
        "It is clear that for this analysis, the total processing time is much slower when CPU bound over using the `cugraph` GPU library. This difference also extends when applied to larger datasets, as the GPU processing scales exponentially (within memory limits).\n",
        "\n",
        "@fig-dists gives an overview of the output from this analysis. There is a clear correlation between proximity to GP practice and drive-time accessibility, as expected. Due to the mixture of rural and urban settings within the chosen area, there is a relatively large disparity in accessibility between postcodes, while urban centred, dense postcodes have times primarily below 10 minutes, there are a select few remote postcodes with times exceeding 40 minutes. Notably, their relative proximity to GP practices does not account for this large difference, meaning in these remote areas, the road network is responsible for lower accessibility."
      ],
      "id": "bc5ee0e0"
    },
    {
      "cell_type": "code",
      "metadata": {},
      "source": [
        "#| label: fig-dists\n",
        "#| code-summary: Times\n",
        "#| fig-cap: Distance from postcodes to nearest GP practices (red) within High Peak\n",
        "\n",
        "gpu = gpu.set_index(\"postcode\")\n",
        "cpu = cpu.set_index(\"postcode\")\n",
        "gpp = get_data(pc=hp_pcs, use_gpu=False).pop(\"pois\")\n",
        "\n",
        "joined = gpu[[\"distance\"]].to_pandas().join(cpu, lsuffix=\"_gpu\", rsuffix=\"_cpu\")\n",
        "\n",
        "ax = joined.plot(\n",
        "    x=\"easting\",\n",
        "    y=\"northing\",\n",
        "    c=\"distance_gpu\",\n",
        "    kind=\"scatter\",\n",
        ")\n",
        "gpp.plot(x=\"easting\", y=\"northing\", c=\"red\", kind=\"scatter\", ax=ax)\n",
        "ax.get_xaxis().set_visible(False)\n",
        "ax.get_yaxis().set_visible(False)\n",
        "\n",
        "plt.show()"
      ],
      "id": "fig-dists",
      "execution_count": null,
      "outputs": []
    },
    {
      "cell_type": "markdown",
      "metadata": {},
      "source": [
        "For peace of mind it is worth considering whether CPU or GPU processing gets different results. The mean difference appears to be around 1.2 seconds (0.02 minutes), with a maximum disagreement of 1.55 minutes.\n"
      ],
      "id": "90b19805"
    },
    {
      "cell_type": "code",
      "metadata": {},
      "source": [
        "#| code-summary: Difference\n",
        "\n",
        "joined[\"diff\"] = abs(joined[\"distance_gpu\"] - joined[\"distance_cpu\"])\n",
        "\n",
        "print(f\"Mean difference: {joined['diff'].mean():.2f}\")\n",
        "print(f\"Max difference: {joined['diff'].max():.2f}\")"
      ],
      "id": "f771e456",
      "execution_count": null,
      "outputs": []
    }
  ],
  "metadata": {
    "kernelspec": {
      "name": "python3",
      "language": "python",
      "display_name": "Python 3 (ipykernel)"
    }
  },
  "nbformat": 4,
  "nbformat_minor": 5
}